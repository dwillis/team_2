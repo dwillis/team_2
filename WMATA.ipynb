{
 "cells": [
  {
   "cell_type": "code",
   "execution_count": 2,
   "metadata": {
    "collapsed": false
   },
   "outputs": [],
   "source": [
    "import requests"
   ]
  },
  {
   "cell_type": "code",
   "execution_count": 3,
   "metadata": {
    "collapsed": true
   },
   "outputs": [],
   "source": [
    "payload = {'api_key': '3c1275f8a9a44dba91b79c2acdac77d5'}"
   ]
  },
  {
   "cell_type": "code",
   "execution_count": 4,
   "metadata": {
    "collapsed": true
   },
   "outputs": [],
   "source": [
    "r = requests.get('https://api.wmata.com/Incidents.svc/json/Incidents', params=payload)"
   ]
  },
  {
   "cell_type": "code",
   "execution_count": 6,
   "metadata": {
    "collapsed": false
   },
   "outputs": [
    {
     "name": "stdout",
     "output_type": "stream",
     "text": [
      "{u'Incidents': [{u'StartLocationFullName': None, u'PassengerDelay': 0.0, u'LinesAffected': u'YL;', u'Description': u'Yellow Line: Delays possible in both directions due to congestion from delayed Blue Line trains.', u'EndLocationFullName': None, u'EmergencyText': None, u'IncidentType': u'Delay', u'DateUpdated': u'2016-04-14T16:09:55', u'IncidentID': u'5FE30314-34D8-402B-ACE4-569E8232F1DC', u'DelaySeverity': None}]}\n"
     ]
    }
   ],
   "source": [
    "print r.json()"
   ]
  },
  {
   "cell_type": "code",
   "execution_count": 7,
   "metadata": {
    "collapsed": true
   },
   "outputs": [],
   "source": [
    "data = r.json()"
   ]
  },
  {
   "cell_type": "code",
   "execution_count": null,
   "metadata": {
    "collapsed": true
   },
   "outputs": [],
   "source": []
  }
 ],
 "metadata": {
  "kernelspec": {
   "display_name": "Python 2",
   "language": "python",
   "name": "python2"
  },
  "language_info": {
   "codemirror_mode": {
    "name": "ipython",
    "version": 2
   },
   "file_extension": ".py",
   "mimetype": "text/x-python",
   "name": "python",
   "nbconvert_exporter": "python",
   "pygments_lexer": "ipython2",
   "version": "2.7.10"
  }
 },
 "nbformat": 4,
 "nbformat_minor": 0
}
